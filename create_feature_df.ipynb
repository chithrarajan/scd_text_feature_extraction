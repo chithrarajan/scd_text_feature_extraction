{
 "cells": [
  {
   "cell_type": "code",
   "execution_count": 5,
   "metadata": {},
   "outputs": [],
   "source": [
    "import pandas as pd\n",
    "\n",
    "topic_sentiment_df = pd.read_csv('topic_sentiment_df.csv')\n",
    "similarity_df = pd.read_csv('similarity_df.csv')\n",
    "pronoun_and_complexity_df = pd.read_csv('topic_sentiment_df.csv')\n",
    "\n",
    "# Concatenate the DataFrames along axis=1 (columns)\n",
    "combined_df = pd.concat([similarity_df, pronoun_and_complexity_df, topic_sentiment_df], axis=1)\n",
    "\n",
    "# Optionally, reset index if you want to make sure the indices align\n",
    "combined_df = combined_df.reset_index(drop=True)\n",
    "\n",
    "# Display the result\n",
    "combined_df\n",
    "\n",
    "combined_df.to_csv('combined_text_features.csv', index=False)"
   ]
  }
 ],
 "metadata": {
  "kernelspec": {
   "display_name": "Python 3.9.12 ('text': venv)",
   "language": "python",
   "name": "python3"
  },
  "language_info": {
   "codemirror_mode": {
    "name": "ipython",
    "version": 3
   },
   "file_extension": ".py",
   "mimetype": "text/x-python",
   "name": "python",
   "nbconvert_exporter": "python",
   "pygments_lexer": "ipython3",
   "version": "3.9.12"
  },
  "orig_nbformat": 4,
  "vscode": {
   "interpreter": {
    "hash": "ed6dd6554ff284cdadabcc502f62466567fa34075a8b2d6a902d3757ebd4651f"
   }
  }
 },
 "nbformat": 4,
 "nbformat_minor": 2
}
